{
 "cells": [
  {
   "cell_type": "code",
   "execution_count": 1,
   "metadata": {},
   "outputs": [],
   "source": [
    "import pandas as pd"
   ]
  },
  {
   "cell_type": "code",
   "execution_count": 4,
   "metadata": {},
   "outputs": [],
   "source": [
    "data = {\n",
    "    \"Title\": [\"Inception\", \"Dunkirk\", \"Interstellar\", \"The Prestige\", \"Memento\"],\n",
    "    \"Director\": [\n",
    "        \"Christopher Nolan\",\n",
    "        \"Christopher Nolan\",\n",
    "        \"Christopher Nolan\",\n",
    "        \"Christopher Nolan\",\n",
    "        \"Christopher Nolan\",\n",
    "    ],\n",
    "    \"Rating\": [8.8, 7.9, 8.6, 8.5, 8.4],\n",
    "}"
   ]
  },
  {
   "cell_type": "code",
   "execution_count": 5,
   "metadata": {},
   "outputs": [
    {
     "data": {
      "text/html": [
       "<div>\n",
       "<style scoped>\n",
       "    .dataframe tbody tr th:only-of-type {\n",
       "        vertical-align: middle;\n",
       "    }\n",
       "\n",
       "    .dataframe tbody tr th {\n",
       "        vertical-align: top;\n",
       "    }\n",
       "\n",
       "    .dataframe thead th {\n",
       "        text-align: right;\n",
       "    }\n",
       "</style>\n",
       "<table border=\"1\" class=\"dataframe\">\n",
       "  <thead>\n",
       "    <tr style=\"text-align: right;\">\n",
       "      <th></th>\n",
       "      <th>Title</th>\n",
       "      <th>Director</th>\n",
       "      <th>Rating</th>\n",
       "    </tr>\n",
       "  </thead>\n",
       "  <tbody>\n",
       "    <tr>\n",
       "      <th>0</th>\n",
       "      <td>Inception</td>\n",
       "      <td>Christopher Nolan</td>\n",
       "      <td>8.8</td>\n",
       "    </tr>\n",
       "    <tr>\n",
       "      <th>1</th>\n",
       "      <td>Dunkirk</td>\n",
       "      <td>Christopher Nolan</td>\n",
       "      <td>7.9</td>\n",
       "    </tr>\n",
       "    <tr>\n",
       "      <th>2</th>\n",
       "      <td>Interstellar</td>\n",
       "      <td>Christopher Nolan</td>\n",
       "      <td>8.6</td>\n",
       "    </tr>\n",
       "    <tr>\n",
       "      <th>3</th>\n",
       "      <td>The Prestige</td>\n",
       "      <td>Christopher Nolan</td>\n",
       "      <td>8.5</td>\n",
       "    </tr>\n",
       "    <tr>\n",
       "      <th>4</th>\n",
       "      <td>Memento</td>\n",
       "      <td>Christopher Nolan</td>\n",
       "      <td>8.4</td>\n",
       "    </tr>\n",
       "  </tbody>\n",
       "</table>\n",
       "</div>"
      ],
      "text/plain": [
       "          Title           Director  Rating\n",
       "0     Inception  Christopher Nolan     8.8\n",
       "1       Dunkirk  Christopher Nolan     7.9\n",
       "2  Interstellar  Christopher Nolan     8.6\n",
       "3  The Prestige  Christopher Nolan     8.5\n",
       "4       Memento  Christopher Nolan     8.4"
      ]
     },
     "execution_count": 5,
     "metadata": {},
     "output_type": "execute_result"
    }
   ],
   "source": [
    "df = pd.DataFrame(data)\n",
    "df"
   ]
  },
  {
   "cell_type": "code",
   "execution_count": 6,
   "metadata": {},
   "outputs": [
    {
     "data": {
      "text/plain": [
       "8.440000000000001"
      ]
     },
     "execution_count": 6,
     "metadata": {},
     "output_type": "execute_result"
    }
   ],
   "source": [
    "df[\"Rating\"].mean()"
   ]
  },
  {
   "cell_type": "code",
   "execution_count": 7,
   "metadata": {},
   "outputs": [],
   "source": [
    "data = {\n",
    "    \"Product\": [\"Laptop\", \"Desktop\", \"Tablet\", \"Phone\", \"Smartwatch\"],\n",
    "    \"Price\": [25000, 12000, 8000, 22000, 5000],\n",
    "}\n",
    "df = pd.DataFrame(data)"
   ]
  },
  {
   "cell_type": "code",
   "execution_count": 8,
   "metadata": {},
   "outputs": [
    {
     "data": {
      "text/html": [
       "<div>\n",
       "<style scoped>\n",
       "    .dataframe tbody tr th:only-of-type {\n",
       "        vertical-align: middle;\n",
       "    }\n",
       "\n",
       "    .dataframe tbody tr th {\n",
       "        vertical-align: top;\n",
       "    }\n",
       "\n",
       "    .dataframe thead th {\n",
       "        text-align: right;\n",
       "    }\n",
       "</style>\n",
       "<table border=\"1\" class=\"dataframe\">\n",
       "  <thead>\n",
       "    <tr style=\"text-align: right;\">\n",
       "      <th></th>\n",
       "      <th>Product</th>\n",
       "      <th>Price</th>\n",
       "    </tr>\n",
       "  </thead>\n",
       "  <tbody>\n",
       "    <tr>\n",
       "      <th>0</th>\n",
       "      <td>Laptop</td>\n",
       "      <td>25000</td>\n",
       "    </tr>\n",
       "    <tr>\n",
       "      <th>1</th>\n",
       "      <td>Desktop</td>\n",
       "      <td>12000</td>\n",
       "    </tr>\n",
       "    <tr>\n",
       "      <th>2</th>\n",
       "      <td>Tablet</td>\n",
       "      <td>8000</td>\n",
       "    </tr>\n",
       "    <tr>\n",
       "      <th>3</th>\n",
       "      <td>Phone</td>\n",
       "      <td>22000</td>\n",
       "    </tr>\n",
       "    <tr>\n",
       "      <th>4</th>\n",
       "      <td>Smartwatch</td>\n",
       "      <td>5000</td>\n",
       "    </tr>\n",
       "  </tbody>\n",
       "</table>\n",
       "</div>"
      ],
      "text/plain": [
       "      Product  Price\n",
       "0      Laptop  25000\n",
       "1     Desktop  12000\n",
       "2      Tablet   8000\n",
       "3       Phone  22000\n",
       "4  Smartwatch   5000"
      ]
     },
     "execution_count": 8,
     "metadata": {},
     "output_type": "execute_result"
    }
   ],
   "source": [
    "df"
   ]
  },
  {
   "cell_type": "code",
   "execution_count": 9,
   "metadata": {},
   "outputs": [
    {
     "data": {
      "text/html": [
       "<div>\n",
       "<style scoped>\n",
       "    .dataframe tbody tr th:only-of-type {\n",
       "        vertical-align: middle;\n",
       "    }\n",
       "\n",
       "    .dataframe tbody tr th {\n",
       "        vertical-align: top;\n",
       "    }\n",
       "\n",
       "    .dataframe thead th {\n",
       "        text-align: right;\n",
       "    }\n",
       "</style>\n",
       "<table border=\"1\" class=\"dataframe\">\n",
       "  <thead>\n",
       "    <tr style=\"text-align: right;\">\n",
       "      <th></th>\n",
       "      <th>Product</th>\n",
       "      <th>Price</th>\n",
       "    </tr>\n",
       "  </thead>\n",
       "  <tbody>\n",
       "    <tr>\n",
       "      <th>0</th>\n",
       "      <td>Laptop</td>\n",
       "      <td>25000</td>\n",
       "    </tr>\n",
       "    <tr>\n",
       "      <th>3</th>\n",
       "      <td>Phone</td>\n",
       "      <td>22000</td>\n",
       "    </tr>\n",
       "  </tbody>\n",
       "</table>\n",
       "</div>"
      ],
      "text/plain": [
       "  Product  Price\n",
       "0  Laptop  25000\n",
       "3   Phone  22000"
      ]
     },
     "execution_count": 9,
     "metadata": {},
     "output_type": "execute_result"
    }
   ],
   "source": [
    "df[df[\"Price\"] > 20000].sort_values(by=\"Price\", ascending=False)"
   ]
  },
  {
   "cell_type": "code",
   "execution_count": 15,
   "metadata": {},
   "outputs": [],
   "source": [
    "data = {\n",
    "    \"Store\": [\"A\", \"B\", \"A\", \"B\", \"A\", \"B\", \"A\", \"B\"],\n",
    "    \"Item\": [\n",
    "        \"Apple\",\n",
    "        \"Banana\",\n",
    "        \"Orange\",\n",
    "        \"Grape\",\n",
    "        \"Apple\",\n",
    "        \"Banana\",\n",
    "        \"Orange\",\n",
    "        \"Grape\",\n",
    "    ],\n",
    "    \"Price\": [50, 20, 30, 60, 55, 22, 33, 65],\n",
    "    \"Quantity\": [10, 12, 15, 16, 20, 25, 30, 35],\n",
    "}"
   ]
  },
  {
   "cell_type": "code",
   "execution_count": 20,
   "metadata": {},
   "outputs": [
    {
     "data": {
      "text/html": [
       "<div>\n",
       "<style scoped>\n",
       "    .dataframe tbody tr th:only-of-type {\n",
       "        vertical-align: middle;\n",
       "    }\n",
       "\n",
       "    .dataframe tbody tr th {\n",
       "        vertical-align: top;\n",
       "    }\n",
       "\n",
       "    .dataframe thead th {\n",
       "        text-align: right;\n",
       "    }\n",
       "</style>\n",
       "<table border=\"1\" class=\"dataframe\">\n",
       "  <thead>\n",
       "    <tr style=\"text-align: right;\">\n",
       "      <th></th>\n",
       "      <th>Store</th>\n",
       "      <th>Total Revenue</th>\n",
       "      <th>Average price</th>\n",
       "    </tr>\n",
       "  </thead>\n",
       "  <tbody>\n",
       "    <tr>\n",
       "      <th>0</th>\n",
       "      <td>A</td>\n",
       "      <td>3040</td>\n",
       "      <td>42.00</td>\n",
       "    </tr>\n",
       "    <tr>\n",
       "      <th>1</th>\n",
       "      <td>B</td>\n",
       "      <td>4025</td>\n",
       "      <td>41.75</td>\n",
       "    </tr>\n",
       "  </tbody>\n",
       "</table>\n",
       "</div>"
      ],
      "text/plain": [
       "  Store  Total Revenue  Average price\n",
       "0     A           3040          42.00\n",
       "1     B           4025          41.75"
      ]
     },
     "execution_count": 20,
     "metadata": {},
     "output_type": "execute_result"
    }
   ],
   "source": [
    "df = pd.DataFrame(data)\n",
    "df[\"Revenue\"] = df[\"Price\"] * df[\"Quantity\"]\n",
    "dfa = df.groupby(by=\"Store\").agg({\"Revenue\": \"sum\", \"Price\": \"mean\"}).reset_index()\n",
    "dfa.rename(columns={\"Revenue\": \"Total Revenue\", \"Price\": \"Average price\"})"
   ]
  },
  {
   "cell_type": "code",
   "execution_count": 12,
   "metadata": {},
   "outputs": [
    {
     "name": "stdout",
     "output_type": "stream",
     "text": [
      "195.0\n"
     ]
    }
   ],
   "source": [
    "data = {\n",
    "    \"Category\": [\"Fruit\", \"Vegetable\", \"Fruit\", \"Vegetable\", \"Fruit\", \"Vegetable\"],\n",
    "    \"Name\": [\"Apple\", \"Carrot\", \"Banana\", \"Potato\", \"Grape\", \"Onion\"],\n",
    "    \"Price\": [2, 1, 1.5, 0.5, 3, 1],\n",
    "    \"Quantity\": [10, 20, 15, 30, 5, 40],\n",
    "}\n",
    "df = pd.DataFrame(data)\n",
    "fruits = df[df[\"Category\"] == \"Fruit\"]\n",
    "total_fruit_value = fruits[\"Price\"].sum() * fruits[\"Quantity\"].sum()\n",
    "print(total_fruit_value)"
   ]
  },
  {
   "cell_type": "code",
   "execution_count": 13,
   "metadata": {},
   "outputs": [
    {
     "name": "stdout",
     "output_type": "stream",
     "text": [
      "9650 225.0\n"
     ]
    }
   ],
   "source": [
    "data = {\n",
    "    'Product': ['A', 'B', 'C', 'A', 'B', 'C'],\n",
    "    'Price': [100, 200, 300, 150, 250, 350],\n",
    "    'Quantity': [10, 5, 7, 12, 8, 5]\n",
    "}\n",
    "df = pd.DataFrame(data)"
   ]
  },
  {
   "cell_type": "code",
   "execution_count": null,
   "metadata": {},
   "outputs": [],
   "source": [
    "total_revenue = (df[\"Price\"] * df[\"Quantity\"]).sum()\n",
    "average_price = df[\"Price\"].mean()\n",
    "print(total_revenue, average_price)"
   ]
  },
  {
   "cell_type": "code",
   "execution_count": 4,
   "metadata": {},
   "outputs": [
    {
     "name": "stdout",
     "output_type": "stream",
     "text": [
      "  Store  Total Revenue  Average Price\n",
      "0     A           3040          42.00\n",
      "1     B           4025          41.75\n"
     ]
    }
   ],
   "source": [
    "# Write a Python program using Pandas to create a DataFrame\n",
    "# from the given data and find the total revenue and average price\n",
    "# of items sold in each store.\n",
    "\n",
    "data = {\n",
    "    \"Store\": [\"A\", \"B\", \"A\", \"B\", \"A\", \"B\", \"A\", \"B\"],\n",
    "    \"Item\": [\n",
    "        \"Apple\",\n",
    "        \"Banana\",\n",
    "        \"Orange\",\n",
    "        \"Grape\",\n",
    "        \"Apple\",\n",
    "        \"Banana\",\n",
    "        \"Orange\",\n",
    "        \"Grape\",\n",
    "    ],\n",
    "    \"Price\": [50, 20, 30, 60, 55, 22, 33, 65],\n",
    "    \"Quantity\": [10, 12, 15, 16, 20, 25, 30, 35],\n",
    "}\n",
    "\n",
    "df = pd.DataFrame(data)\n",
    "df[\"Revenue\"] = df[\"Price\"] * df[\"Quantity\"]\n",
    "dfg = df.groupby(by=\"Store\").agg({\"Revenue\": \"sum\", \"Price\": \"mean\"}).reset_index()\n",
    "print(dfg.rename(columns={\"Revenue\": \"Total Revenue\", \"Price\": \"Average Price\"}))"
   ]
  },
  {
   "cell_type": "code",
   "execution_count": 7,
   "metadata": {},
   "outputs": [
    {
     "name": "stdout",
     "output_type": "stream",
     "text": [
      "  Customer  Total Spent\n",
      "0    Alice          280\n",
      "1      Bob          190\n"
     ]
    }
   ],
   "source": [
    "# Write a Python program using Pandas to create a DataFrame from the given data\n",
    "# and calculate the total amount spent by each customer.\n",
    "\n",
    "data = {\n",
    "    \"Customer\": [\"Alice\", \"Bob\", \"Alice\", \"Alice\", \"Bob\", \"Bob\", \"Alice\", \"Bob\"],\n",
    "    \"Item\": [\n",
    "        \"Pen\",\n",
    "        \"Pencil\",\n",
    "        \"Notebook\",\n",
    "        \"Eraser\",\n",
    "        \"Pen\",\n",
    "        \"Pencil\",\n",
    "        \"Notebook\",\n",
    "        \"Eraser\",\n",
    "    ],\n",
    "    \"Price\": [10, 5, 50, 20, 10, 5, 50, 20],\n",
    "    \"Quantity\": [3, 4, 2, 5, 10, 6, 1, 2],\n",
    "}\n",
    "\n",
    "df = pd.DataFrame(data)\n",
    "df[\"Cost\"] = df[\"Price\"] * df[\"Quantity\"]\n",
    "dfg = df.groupby(by=\"Customer\").agg({\"Cost\": \"sum\"}).reset_index()\n",
    "print(dfg.rename(columns={\"Cost\": \"Total Spent\"}))"
   ]
  },
  {
   "cell_type": "code",
   "execution_count": 10,
   "metadata": {},
   "outputs": [
    {
     "data": {
      "text/plain": [
       "'Jul'"
      ]
     },
     "execution_count": 10,
     "metadata": {},
     "output_type": "execute_result"
    }
   ],
   "source": [
    "# Write a Python program using Pandas to create a DataFrame\n",
    "# from the given data and find the month with the highest average\n",
    "# temperature.\n",
    "\n",
    "data = {\n",
    "    \"Month\": [\n",
    "        \"Jan\",\n",
    "        \"Feb\",\n",
    "        \"Mar\",\n",
    "        \"Apr\",\n",
    "        \"May\",\n",
    "        \"Jun\",\n",
    "        \"Jul\",\n",
    "        \"Aug\",\n",
    "        \"Sep\",\n",
    "        \"Oct\",\n",
    "        \"Nov\",\n",
    "        \"Dec\",\n",
    "    ],\n",
    "    \"Temperature\": [20, 22, 25, 27, 30, 32, 35, 34, 30, 28, 24, 21],\n",
    "}\n",
    "\n",
    "df = pd.DataFrame(data)\n",
    "imax = df[\"Temperature\"].idxmax()\n",
    "df.iloc[imax, 0]"
   ]
  },
  {
   "cell_type": "code",
   "execution_count": 14,
   "metadata": {},
   "outputs": [
    {
     "name": "stdout",
     "output_type": "stream",
     "text": [
      "       Item       Total\n",
      "            Total Spent\n",
      "0    Eraser         140\n",
      "1  Notebook         150\n",
      "2       Pen         130\n",
      "3    Pencil          50\n",
      "470\n"
     ]
    }
   ],
   "source": [
    "# Write a Python program using Pandas to create a DataFrame\n",
    "# from the given data and find the total amount spent per item,\n",
    "# as well as the total amount spent by all customers.\n",
    "\n",
    "data = {\n",
    "    \"Customer\": [\"Alice\", \"Bob\", \"Alice\", \"Alice\", \"Bob\", \"Bob\", \"Alice\", \"Bob\"],\n",
    "    \"Item\": [\n",
    "        \"Pen\",\n",
    "        \"Pencil\",\n",
    "        \"Notebook\",\n",
    "        \"Eraser\",\n",
    "        \"Pen\",\n",
    "        \"Pencil\",\n",
    "        \"Notebook\",\n",
    "        \"Eraser\",\n",
    "    ],\n",
    "    \"Price\": [10, 5, 50, 20, 10, 5, 50, 20],\n",
    "    \"Quantity\": [3, 4, 2, 5, 10, 6, 1, 2],\n",
    "}\n",
    "\n",
    "df = pd.DataFrame(data)\n",
    "df[\"Total\"] = df[\"Price\"] * df[\"Quantity\"]\n",
    "dfg = df.groupby(by=\"Item\").agg({\"Total\": [(\"Total Spent\", \"sum\")]}).reset_index()\n",
    "print(dfg)\n",
    "print(df[\"Total\"].sum())"
   ]
  },
  {
   "cell_type": "code",
   "execution_count": null,
   "metadata": {},
   "outputs": [],
   "source": [
    "# Write a Python program using Pandas to create a DataFrame\n",
    "# from the given data and calculate the monthly average\n",
    "# temperature difference between two cities.\n",
    "\n",
    "data = {\n",
    "    \"Month\": [\n",
    "        \"Jan\",\n",
    "        \"Feb\",\n",
    "        \"Mar\",\n",
    "        \"Apr\",\n",
    "        \"May\",\n",
    "        \"Jun\",\n",
    "        \"Jul\",\n",
    "        \"Aug\",\n",
    "        \"Sep\",\n",
    "        \"Oct\",\n",
    "        \"Nov\",\n",
    "        \"Dec\",\n",
    "    ],\n",
    "    \"City_A_Temp\": [20, 22, 25, 27, 30, 32, 35, 34, 30, 28, 24, 21],\n",
    "    \"City_B_Temp\": [10, 12, 15, 17, 20, 22, 25, 24, 20, 18, 14, 11],\n",
    "}\n",
    "\n",
    "\n",
    "df = pd.DataFrame(data)"
   ]
  },
  {
   "cell_type": "code",
   "execution_count": 16,
   "metadata": {},
   "outputs": [
    {
     "data": {
      "text/plain": [
       "10.0"
      ]
     },
     "execution_count": 16,
     "metadata": {},
     "output_type": "execute_result"
    }
   ],
   "source": [
    "# Write a Python program using Pandas to create a DataFrame from the given data and calculate the monthly average temperature difference between two cities.\n",
    "\n",
    "\n",
    "data = {\n",
    "    \"Month\": [\n",
    "        \"Jan\",\n",
    "        \"Feb\",\n",
    "        \"Mar\",\n",
    "        \"Apr\",\n",
    "        \"May\",\n",
    "        \"Jun\",\n",
    "        \"Jul\",\n",
    "        \"Aug\",\n",
    "        \"Sep\",\n",
    "        \"Oct\",\n",
    "        \"Nov\",\n",
    "        \"Dec\",\n",
    "    ],\n",
    "    \"City_A_Temp\": [20, 22, 25, 27, 30, 32, 35, 34, 30, 28, 24, 21],\n",
    "    \"City_B_Temp\": [10, 12, 15, 17, 20, 22, 25, 24, 20, 18, 14, 11],\n",
    "}\n",
    "\n",
    "df = pd.DataFrame(data)\n",
    "df[\"diff\"] = abs(df[\"City_A_Temp\"] - df[\"City_B_Temp\"])\n",
    "df[\"diff\"].mean()"
   ]
  },
  {
   "cell_type": "code",
   "execution_count": null,
   "metadata": {},
   "outputs": [],
   "source": []
  }
 ],
 "metadata": {
  "kernelspec": {
   "display_name": "env_full",
   "language": "python",
   "name": "python3"
  },
  "language_info": {
   "codemirror_mode": {
    "name": "ipython",
    "version": 3
   },
   "file_extension": ".py",
   "mimetype": "text/x-python",
   "name": "python",
   "nbconvert_exporter": "python",
   "pygments_lexer": "ipython3",
   "version": "3.12.4"
  }
 },
 "nbformat": 4,
 "nbformat_minor": 2
}
